{
  "nbformat": 4,
  "nbformat_minor": 0,
  "metadata": {
    "colab": {
      "provenance": [],
      "toc_visible": true,
      "include_colab_link": true
    },
    "kernelspec": {
      "name": "python3",
      "display_name": "Python 3"
    },
    "language_info": {
      "name": "python"
    }
  },
  "cells": [
    {
      "cell_type": "markdown",
      "metadata": {
        "id": "view-in-github",
        "colab_type": "text"
      },
      "source": [
        "<a href=\"https://colab.research.google.com/github/jeslyn-guo/Hacklytics2024/blob/main/Hacklytics2024.ipynb\" target=\"_parent\"><img src=\"https://colab.research.google.com/assets/colab-badge.svg\" alt=\"Open In Colab\"/></a>"
      ]
    },
    {
      "cell_type": "markdown",
      "source": [
        "**Easy Recruit Project**\n",
        "\n",
        "Simplifying the college football recruitment process by analyzing high school players' inputted statistics, including height, weight, rating, and stars. Easy Recruit outputs existing collegiate players who resembled similar qualities during their time of college recruitment.\n",
        "\n",
        "For this portion of our project, we will be focusing on the Wide Receiver (WR) position."
      ],
      "metadata": {
        "id": "P4tLsvGMDo6s"
      }
    },
    {
      "cell_type": "code",
      "source": [
        "import pandas as pd\n",
        "import numpy as np"
      ],
      "metadata": {
        "id": "SpR0ETshTHKG"
      },
      "execution_count": null,
      "outputs": []
    },
    {
      "cell_type": "markdown",
      "source": [
        "**High School Recruits Statistics Dataset**\n",
        "\n",
        "This dataset was extrapolated from the \"College Football Data\" website (\"https://collegefootballdata.com/exporter/recruiting/players?year=2020&classification=HighSchool&position=WR\")."
      ],
      "metadata": {
        "id": "tqzjLJjaj7kn"
      }
    },
    {
      "cell_type": "code",
      "source": [
        "url = 'https://raw.githubusercontent.com/jeslyn-guo/Hacklytics2024/main/HSRecruitStats.csv'\n",
        "hsDf = pd.read_csv(url)\n",
        "hsDf = hsDf.drop(columns=['Name','Unnamed: 6','Unnamed: 11','Id','AthleteId'])\n",
        "hsDf = hsDf.drop(hsDf.index[1973:2476])"
      ],
      "metadata": {
        "id": "aVZDet79f9jd"
      },
      "execution_count": null,
      "outputs": []
    },
    {
      "cell_type": "code",
      "source": [
        "#transform into arrays\n",
        "stat_columns = ['Full Name','Height','Weight','Stars','Rating']\n",
        "array_selected = hsDf[stat_columns[1:5]]\n",
        "array_selected_with_name = hsDf[stat_columns]\n",
        "hs_stats_array = array_selected.to_numpy()\n",
        "hs_stats_array_with_name = array_selected_with_name.to_numpy()"
      ],
      "metadata": {
        "id": "SKGJN0zjjglT"
      },
      "execution_count": null,
      "outputs": []
    },
    {
      "cell_type": "code",
      "source": [
        "#normalize stat values in array (height, weight, stars, rating)\n",
        "from sklearn.preprocessing import StandardScaler\n",
        "\n",
        "#create a scaler object\n",
        "scaler = StandardScaler()\n",
        "\n",
        "#standardize scaler with scaler object to proceed in Euclidean Distance calc\n",
        "standardized_data = scaler.fit_transform(array_selected)"
      ],
      "metadata": {
        "id": "Ehkt7SthhZeM"
      },
      "execution_count": null,
      "outputs": []
    },
    {
      "cell_type": "code",
      "source": [
        "#create input data\n",
        "appendedArr = np.array([1, 1, 1, .1])\n",
        "\n",
        "heightIndex = 0\n",
        "weightIndex = 1\n",
        "starIndex = 2\n",
        "ratingIndex = 3\n",
        "\n",
        "#add input data to original  data set and normalize all data together\n",
        "result = np.vstack([array_selected, appendedArr])\n",
        "normalizedRes = scaler.fit_transform(result)\n",
        "\n",
        "skillRes = normalizedRes\n",
        "heightWeightRes = normalizedRes\n",
        "\n",
        "#Skill Calculations\n",
        "#add a weight of 5 to star data\n",
        "skillRes[:, starIndex] *= 3\n",
        "skillRes[:, ratingIndex] *= 6\n",
        "\n",
        "#label standardized data\n",
        "normalizedSkill = skillRes[-1]\n",
        "skillRes = skillRes[:-1]\n",
        "\n",
        "Skill_distances = np.linalg.norm(normalizedSkill - skillRes, axis=1)\n",
        "skill_index = np.argmin(Skill_distances)\n",
        "\n",
        "#Height and Weight Calculations\n",
        "\n",
        "heightWeightRes[:, heightIndex] *= 8\n",
        "heightWeightRes[:, weightIndex] *= 8\n",
        "heightWeightRes[:, starIndex] *= 2\n",
        "heightWeightRes[:, ratingIndex] *= 2\n",
        "\n",
        "#label standardized data\n",
        "normalizedHeightWeight = heightWeightRes[-1]\n",
        "heightWeightRes = heightWeightRes[:-1]\n",
        "\n",
        "HW_distances = np.linalg.norm(normalizedHeightWeight - heightWeightRes, axis=1)\n",
        "HW_index = np.argmin(HW_distances)\n",
        "\n",
        "\n",
        "\n",
        "\n",
        "\n",
        "print(skill_index)\n",
        "print(hs_stats_array_with_name[skill_index][0])\n",
        "\n",
        "print(HW_index)\n",
        "print(hs_stats_array_with_name[HW_index][0])\n",
        "\n",
        "\n",
        "\n",
        "\n",
        "\n"
      ],
      "metadata": {
        "colab": {
          "base_uri": "https://localhost:8080/"
        },
        "id": "v8YRHzCi6RwX",
        "outputId": "9892003e-9abd-4567-8d28-1d2d817639fe"
      },
      "execution_count": null,
      "outputs": [
        {
          "output_type": "stream",
          "name": "stdout",
          "text": [
            "1966\n",
            "Kylon Willie\n",
            "1828\n",
            "Philip Earnhardt\n"
          ]
        }
      ]
    },
    {
      "cell_type": "code",
      "source": [
        "ESPN = 'https://raw.githubusercontent.com/jeslyn-guo/Hacklytics2024/main/ESPN%20WR%20Stats.csv'\n",
        "ESPNdf=pd.read_csv(ESPN)\n",
        "ESPNdf = ESPNdf.drop(columns=['First Name', 'Last name'])\n",
        "ESPNdf.head(20)"
      ],
      "metadata": {
        "id": "uV5K64YDcA6y"
      },
      "execution_count": null,
      "outputs": []
    },
    {
      "cell_type": "code",
      "source": [],
      "metadata": {
        "id": "WACTYGI98ITz"
      },
      "execution_count": null,
      "outputs": []
    }
  ]
}